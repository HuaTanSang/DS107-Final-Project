{
 "cells": [
  {
   "cell_type": "code",
   "execution_count": 11,
   "metadata": {},
   "outputs": [],
   "source": [
    "import numpy as np \n",
    "import DPTheilSen as DPTS\n",
    "import DPNoisyStat as NS\n",
    "import DPGradDescent as DPGD "
   ]
  },
  {
   "cell_type": "code",
   "execution_count": 12,
   "metadata": {},
   "outputs": [
    {
     "name": "stdout",
     "output_type": "stream",
     "text": [
      "True value at 0.25, 0.75  : 0.325, 0.575\n",
      "DPGDzCDP prediction       : 0.3189814245653523 0.5840467503418869\n",
      "DPGDPure prediction       : 0.3191549890513513 0.5838410269916825\n",
      "DPGDPApprox prediction    : 0.3189401246207963 0.5840895002818922\n",
      "DPExpTheilSen prediction  : 0.32365501376904654 0.5887735689133653\n",
      "DPWideTheilSen prediction : 0.32132157965476554 0.5856506523800543\n",
      "DPSSTheilSen prediction   : 0.328197984227518 0.582514663514768\n",
      "NoisyStats prediction     : 0.23923774109008283 0.5679689115600597\n"
     ]
    }
   ],
   "source": [
    "eps = 1.0 \n",
    "n = 400 \n",
    "varx = 0.05 \n",
    "barx = 0.5 \n",
    "vare = 0.005 \n",
    "slope = 0.5 \n",
    "intercept = 0.2 \n",
    "\n",
    "\n",
    "x = []\n",
    "y = []\n",
    "for i in range(n):\n",
    "    x.append(np.random.normal(barx, np.sqrt(varx)))\n",
    "    y.append(slope*x[i] + intercept + np.random.normal(0, np.sqrt(vare)))\n",
    "x = np.array(x)\n",
    "y = np.array(y)\n",
    "xm = np.mean(x)\n",
    "ym = np.mean(y)\n",
    "xnew = [0.25, 0.75] \n",
    "\n",
    "\n",
    "trials = 10\n",
    "p_25_est = []\n",
    "p_75_est = []\n",
    "for i in range(trials):\n",
    "    p25result = []\n",
    "    p75result = []\n",
    "    for method in [\n",
    "                    DPGD.DPGDzCDP,\n",
    "                    DPGD.DPGDPure, \n",
    "                    DPGD.DPGDApprox, \n",
    "                    DPTS.DPTheilSenExp,\n",
    "                    DPTS.DPTheilSenWide,\n",
    "                    DPTS.DPTheilSenSS,\n",
    "                    NS.NoisyStat\n",
    "                    ]:\n",
    "        res = method(x, y, xm, ym, n, eps, xnew)\n",
    "        if res is not None:\n",
    "            (p25, p75) = res\n",
    "            p25result.append(p25)\n",
    "            p75result.append(p75)\n",
    "        else:\n",
    "            p25result.append(0)\n",
    "            p75result.append(0)\n",
    "    p_25_est.append(p25result)\n",
    "    p_75_est.append(p75result)\n",
    "p_25_est = np.array(p_25_est)\n",
    "p_75_est = np.array(p_75_est)\n",
    "\n",
    "print(\"True value at 0.25, 0.75  : 0.325, 0.575\")\n",
    "print(\"DPGDzCDP prediction       :\", np.mean(p_25_est[:,0]), np.mean(p_75_est[:,0]))\n",
    "print(\"DPGDPure prediction       :\", np.mean(p_25_est[:,1]), np.mean(p_75_est[:,1]))\n",
    "print(\"DPGDPApprox prediction    :\", np.mean(p_25_est[:,2]), np.mean(p_75_est[:,2]))\n",
    "print(\"DPExpTheilSen prediction  :\", np.mean(p_25_est[:,3]), np.mean(p_75_est[:,3]))\n",
    "print(\"DPWideTheilSen prediction :\", np.mean(p_25_est[:,4]), np.mean(p_75_est[:,4]))\n",
    "print(\"DPSSTheilSen prediction   :\", np.mean(p_25_est[:,5]), np.mean(p_75_est[:,5]))\n",
    "print(\"NoisyStats prediction     :\", np.mean(p_25_est[:,6]), np.mean(p_75_est[:,6]))\n"
   ]
  }
 ],
 "metadata": {
  "kernelspec": {
   "display_name": "Python 3",
   "language": "python",
   "name": "python3"
  },
  "language_info": {
   "codemirror_mode": {
    "name": "ipython",
    "version": 3
   },
   "file_extension": ".py",
   "mimetype": "text/x-python",
   "name": "python",
   "nbconvert_exporter": "python",
   "pygments_lexer": "ipython3",
   "version": "3.11.5"
  }
 },
 "nbformat": 4,
 "nbformat_minor": 2
}
